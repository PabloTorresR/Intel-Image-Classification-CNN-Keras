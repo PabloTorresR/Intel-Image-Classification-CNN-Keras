{
 "cells": [
  {
   "cell_type": "markdown",
   "metadata": {},
   "source": [
    "# Optimización de hiperparámetros del modelo aumentado\n"
   ]
  },
  {
   "cell_type": "markdown",
   "metadata": {},
   "source": [
    "En este notebook se realizará la exploración de los hiperparámetros óptimos para entrenar un modelo basado en el modelo aumentado que se definio en notebook anterior. Esto se hará con el fin de mejorar el rendimient de este modelo.\n",
    "\n",
    "Para ello se emplea la librería `keras_tuner`, que permite definir un espacio de soluciones para los hiperparámetros, que más tarde, mediante random search, se encontrarán distintas soluciones posibles óptimas.\n"
   ]
  },
  {
   "cell_type": "code",
   "execution_count": 1,
   "metadata": {},
   "outputs": [],
   "source": [
    "import sys\n",
    "\n",
    "sys.path.append(\"../\")  # Add the parent directory to the Python path"
   ]
  },
  {
   "cell_type": "code",
   "execution_count": 3,
   "metadata": {},
   "outputs": [],
   "source": [
    "import keras_tuner as kt\n",
    "from src.models.tuneable_model import build_tunable_aumented_model\n",
    "from src.data.data_loader import data_loader, data_loader_test"
   ]
  },
  {
   "cell_type": "markdown",
   "metadata": {},
   "source": [
    "## Carga de los datos\n",
    "\n",
    "Para este apartado se procede del mismo modo que se ha hecho hasta ahora\n"
   ]
  },
  {
   "cell_type": "code",
   "execution_count": 20,
   "metadata": {},
   "outputs": [
    {
     "name": "stdout",
     "output_type": "stream",
     "text": [
      "Found 12777 files belonging to 6 classes.\n",
      "Using 10222 files for training.\n",
      "Using 2555 files for validation.\n"
     ]
    }
   ],
   "source": [
    "train_data, val_data = data_loader(\"../data/train\", (150, 150), batch_size=128)"
   ]
  },
  {
   "cell_type": "markdown",
   "metadata": {},
   "source": [
    "## Random Search de las soluciones óptimas al problema\n"
   ]
  },
  {
   "cell_type": "markdown",
   "metadata": {},
   "source": [
    "En primer lugar se instancia un objeto `tuner` que va a permitir realizar la optimización de las soluciones.\n",
    "\n",
    "#### Parámetros de la Búsqueda Aleatoria\n",
    "\n",
    "- `hypermodel`: Esta es la función que define el modelo que se va a optimizar. En este caso, estamos utilizando la función `build_tunable_aumented_model` para crear el modelo que queremos ajustar.\n",
    "\n",
    "- `objective`: Especifica la métrica objetivo que se utilizará para evaluar los modelos generados durante la búsqueda. En este caso, estamos optimizando la \"accuracy\" (precisión).\n",
    "\n",
    "- `max_trials`: Define el número máximo de modelos que se evaluarán de manera aleatoria. En este ejemplo, se han configurado un máximo de 50 modelos para ser evaluados.\n",
    "\n",
    "- `directory`: Especifica el directorio en el que se guardarán los resultados de la búsqueda, incluidos los modelos y los registros. En este caso, los resultados se guardarán en \"results_dir\".\n",
    "\n",
    "- `project_name`: Define el nombre del proyecto de búsqueda. Esto se utiliza para organizar los resultados de manera adecuada. En este caso, el proyecto se llama \"keras_tuner_test\".\n",
    "\n",
    "- `overwrite`: Si se establece en `True`, sobrescribirá cualquier proyecto existente con el mismo nombre.\n"
   ]
  },
  {
   "cell_type": "markdown",
   "metadata": {},
   "source": [
    "### Función `build_tunable_aumented_model`\n",
    "\n",
    "Esta función es similar a las usadas para los casos del modelo simple y aumentado, con la excepción de que aquí se construye un modelo donde muchos de los hiperparámetros no están definidos por un valor, sino por un rango de valores. De este modo, no se puede usar este modelo para entrenar directamente, sino que primero hay que realizar la búsqueda de las distintas soluciones con las que cosntruir un modelo final.\n",
    "\n",
    "Se ha definido un espacio de soluciones utilizando `hp.Choice`. Los hiperparámetros a optimizar y sus rangos son:\n",
    "\n",
    "#### Funciones de Activación\n",
    "\n",
    "- \"relu\"\n",
    "- \"sigmoid\"\n",
    "- \"tanh\"\n",
    "- \"selu\"\n",
    "- \"elu\"\n",
    "\n",
    "#### Inicializadores de Pesos\n",
    "\n",
    "- \"glorot_uniform\"\n",
    "- \"truncated_normal\"\n",
    "- \"random_uniform\"\n",
    "- \"ones\"\n",
    "\n",
    "#### Regularizadores\n",
    "\n",
    "- \"l1_l2\"\n",
    "- \"l1\"\n",
    "- \"l2\"\n",
    "\n",
    "#### Dropout\n",
    "\n",
    "Los valores de Dropout variarán entre 0.1 y 0.6 en incrementos de 0.1.\n"
   ]
  },
  {
   "cell_type": "code",
   "execution_count": 18,
   "metadata": {},
   "outputs": [],
   "source": [
    "tuner = kt.RandomSearch(\n",
    "    hypermodel=build_tunable_aumented_model,\n",
    "    objective=\"accuracy\",\n",
    "    max_trials=50,\n",
    "    directory=\"results_dir\",\n",
    "    project_name=\"keras_tuner_test\",\n",
    "    overwrite=True,\n",
    ")"
   ]
  },
  {
   "cell_type": "code",
   "execution_count": 19,
   "metadata": {},
   "outputs": [
    {
     "name": "stdout",
     "output_type": "stream",
     "text": [
      "Search space summary\n",
      "Default search space size: 4\n",
      "activation (Choice)\n",
      "{'default': 'relu', 'conditions': [], 'values': ['relu', 'sigmoid', 'tanh', 'selu', 'elu'], 'ordered': False}\n",
      "kernel_initializer (Choice)\n",
      "{'default': 'glorot_uniform', 'conditions': [], 'values': ['glorot_uniform', 'truncated_normal', 'random_uniform', 'ones'], 'ordered': False}\n",
      "kernel_regularizer (Choice)\n",
      "{'default': 'l1_l2', 'conditions': [], 'values': ['l1_l2', 'l1', 'l2'], 'ordered': False}\n",
      "rate (Float)\n",
      "{'default': 0.1, 'conditions': [], 'min_value': 0.1, 'max_value': 0.6, 'step': 0.1, 'sampling': 'linear'}\n"
     ]
    }
   ],
   "source": [
    "tuner.search_space_summary()"
   ]
  },
  {
   "cell_type": "markdown",
   "metadata": {},
   "source": [
    "#### Iniciar la Búsqueda\n",
    "\n",
    "Una vez que se ha configurado la búsqueda aleatoria de hiperparámetros con los parámetros mencionados anteriormente, se inicia la búsqueda utilizando el siguiente código:\n"
   ]
  },
  {
   "cell_type": "code",
   "execution_count": 21,
   "metadata": {},
   "outputs": [
    {
     "name": "stdout",
     "output_type": "stream",
     "text": [
      "Trial 50 Complete [00h 01m 53s]\n",
      "accuracy: 0.545881450176239\n",
      "\n",
      "Best accuracy So Far: 0.6016435027122498\n",
      "Total elapsed time: 01h 37m 17s\n"
     ]
    }
   ],
   "source": [
    "tuner.search(\n",
    "    train_data,\n",
    "    epochs=2,\n",
    ")"
   ]
  },
  {
   "cell_type": "markdown",
   "metadata": {},
   "source": [
    "### Elección del modelo óptimo\n",
    "\n",
    "En este punto se exploran las soluciones y se elige como `best_tuned` el que haya obtenido mejor accuracy en las epochs en las que se han probado\n"
   ]
  },
  {
   "cell_type": "code",
   "execution_count": 23,
   "metadata": {},
   "outputs": [
    {
     "name": "stdout",
     "output_type": "stream",
     "text": [
      "WARNING:tensorflow:Detecting that an object or model or tf.train.Checkpoint is being deleted with unrestored values. See the following logs for the specific values in question. To silence these warnings, use `status.expect_partial()`. See https://www.tensorflow.org/api_docs/python/tf/train/Checkpoint#restorefor details about the status object returned by the restore function.\n",
      "WARNING:tensorflow:Value in checkpoint could not be found in the restored object: (root).optimizer.iter\n",
      "WARNING:tensorflow:Value in checkpoint could not be found in the restored object: (root).optimizer.beta_1\n",
      "WARNING:tensorflow:Value in checkpoint could not be found in the restored object: (root).optimizer.beta_2\n",
      "WARNING:tensorflow:Value in checkpoint could not be found in the restored object: (root).optimizer.decay\n",
      "WARNING:tensorflow:Value in checkpoint could not be found in the restored object: (root).optimizer.learning_rate\n",
      "Model: \"model\"\n",
      "_________________________________________________________________\n",
      " Layer (type)                Output Shape              Param #   \n",
      "=================================================================\n",
      " input_1 (InputLayer)        [(None, 150, 150, 3)]     0         \n",
      "                                                                 \n",
      " conv2d (Conv2D)             (None, 148, 148, 32)      896       \n",
      "                                                                 \n",
      " max_pooling2d (MaxPooling2D  (None, 74, 74, 32)       0         \n",
      " )                                                               \n",
      "                                                                 \n",
      " dropout (Dropout)           (None, 74, 74, 32)        0         \n",
      "                                                                 \n",
      " conv2d_1 (Conv2D)           (None, 72, 72, 32)        9248      \n",
      "                                                                 \n",
      " max_pooling2d_1 (MaxPooling  (None, 36, 36, 32)       0         \n",
      " 2D)                                                             \n",
      "                                                                 \n",
      " conv2d_2 (Conv2D)           (None, 34, 34, 64)        18496     \n",
      "                                                                 \n",
      " max_pooling2d_2 (MaxPooling  (None, 17, 17, 64)       0         \n",
      " 2D)                                                             \n",
      "                                                                 \n",
      " dropout_1 (Dropout)         (None, 17, 17, 64)        0         \n",
      "                                                                 \n",
      " conv2d_3 (Conv2D)           (None, 15, 15, 64)        36928     \n",
      "                                                                 \n",
      " max_pooling2d_3 (MaxPooling  (None, 7, 7, 64)         0         \n",
      " 2D)                                                             \n",
      "                                                                 \n",
      " conv2d_4 (Conv2D)           (None, 5, 5, 64)          36928     \n",
      "                                                                 \n",
      " max_pooling2d_4 (MaxPooling  (None, 2, 2, 64)         0         \n",
      " 2D)                                                             \n",
      "                                                                 \n",
      " dropout_2 (Dropout)         (None, 2, 2, 64)          0         \n",
      "                                                                 \n",
      " flatten (Flatten)           (None, 256)               0         \n",
      "                                                                 \n",
      " dense (Dense)               (None, 64)                16448     \n",
      "                                                                 \n",
      " dense_1 (Dense)             (None, 6)                 390       \n",
      "                                                                 \n",
      "=================================================================\n",
      "Total params: 119,334\n",
      "Trainable params: 119,334\n",
      "Non-trainable params: 0\n",
      "_________________________________________________________________\n"
     ]
    }
   ],
   "source": [
    "models = tuner.get_best_models(num_models=1)\n",
    "best_tuned = models[0]\n",
    "best_tuned.summary()"
   ]
  },
  {
   "cell_type": "markdown",
   "metadata": {},
   "source": [
    "### Guardado de la solución óptima\n",
    "\n",
    "A continuación se guarda el mejor modelo obtenido junto al resto de modelos entrenados, esto se hace con el fin de poder utilizarlo posteriormente para inferencia o para continuar su entrenamiento.\n"
   ]
  },
  {
   "cell_type": "code",
   "execution_count": 26,
   "metadata": {},
   "outputs": [
    {
     "name": "stderr",
     "output_type": "stream",
     "text": [
      "WARNING:absl:Found untraced functions such as _jit_compiled_convolution_op, _jit_compiled_convolution_op, _jit_compiled_convolution_op, _jit_compiled_convolution_op, _jit_compiled_convolution_op while saving (showing 5 of 5). These functions will not be directly callable after loading.\n"
     ]
    },
    {
     "name": "stdout",
     "output_type": "stream",
     "text": [
      "INFO:tensorflow:Assets written to: ../models/aumented_tuned\\assets\n"
     ]
    },
    {
     "name": "stderr",
     "output_type": "stream",
     "text": [
      "INFO:tensorflow:Assets written to: ../models/aumented_tuned\\assets\n"
     ]
    }
   ],
   "source": [
    "MODEL_SAVE_PATH = \"../models/aumented_tuned\"\n",
    "best_tuned.save(MODEL_SAVE_PATH)"
   ]
  },
  {
   "cell_type": "markdown",
   "metadata": {},
   "source": [
    "Llegados a este punto se ha encontrado un modelo que es el que se mejores hiperparámetros tiene para converger a una solución óptima. Se abrirá este modelo en un notebook posterior para continuar su entrenamiento y analizar sus resultados sobre los distintos sets.\n"
   ]
  }
 ],
 "metadata": {
  "kernelspec": {
   "display_name": "annonimization",
   "language": "python",
   "name": "python3"
  },
  "language_info": {
   "codemirror_mode": {
    "name": "ipython",
    "version": 3
   },
   "file_extension": ".py",
   "mimetype": "text/x-python",
   "name": "python",
   "nbconvert_exporter": "python",
   "pygments_lexer": "ipython3",
   "version": "3.10.13"
  },
  "orig_nbformat": 4
 },
 "nbformat": 4,
 "nbformat_minor": 2
}
